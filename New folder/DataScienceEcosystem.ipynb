{
 "cells": [
  {
   "cell_type": "markdown",
   "id": "00f7aeed-3083-421e-ab3f-655fd544b790",
   "metadata": {},
   "source": [
    "# Data Science Tools and Ecosystem"
   ]
  },
  {
   "cell_type": "markdown",
   "id": "de9eb427-6c12-4422-9230-92621025b482",
   "metadata": {},
   "source": [
    "In this notebook, Data Science Tools and Ecosystem are summarized"
   ]
  },
  {
   "cell_type": "markdown",
   "id": "92b84846-35c5-4e2f-8ab6-37764bf07c22",
   "metadata": {},
   "source": [
    "## Author"
   ]
  },
  {
   "cell_type": "markdown",
   "id": "dd3a43a4-78c5-40f6-a7a5-5fad6b3b16f4",
   "metadata": {},
   "source": [
    "A-T Ferhat"
   ]
  },
  {
   "cell_type": "markdown",
   "id": "99d9c467-91cb-408e-80a0-9a707e9bc631",
   "metadata": {},
   "source": [
    "Objectives:"
   ]
  },
  {
   "cell_type": "markdown",
   "id": "1319c1d8-23b5-4800-8e1a-78d7dce6d244",
   "metadata": {},
   "source": [
    "* List popular language in data science"
   ]
  },
  {
   "cell_type": "markdown",
   "id": "affc7677-6648-4998-a0db-193a8e72c66b",
   "metadata": {},
   "source": [
    "* List common library in python"
   ]
  },
  {
   "cell_type": "markdown",
   "id": "b27a07ab-b90f-405f-b340-05b6dbdb37b1",
   "metadata": {},
   "source": [
    "* List common tools in data science"
   ]
  },
  {
   "cell_type": "markdown",
   "id": "e18aee73-85f8-40e2-b2d3-34e45bce38e5",
   "metadata": {},
   "source": [
    "* Use markdown code line"
   ]
  },
  {
   "cell_type": "markdown",
   "id": "3e5a52ce-36cb-41c4-9cc8-0e6fee093f26",
   "metadata": {},
   "source": [
    "* give exemple of arithmetic expression"
   ]
  },
  {
   "cell_type": "markdown",
   "id": "8c967b9a-7423-4bec-9d50-36e99716c609",
   "metadata": {},
   "source": [
    "Some of the popular languages that Data Scientists use are:"
   ]
  },
  {
   "cell_type": "markdown",
   "id": "cbc5d147-1876-4e7f-8228-66d8d2637689",
   "metadata": {},
   "source": [
    "1. Python"
   ]
  },
  {
   "cell_type": "markdown",
   "id": "35399b0d-c6ec-43e9-b114-7030424b0a9c",
   "metadata": {},
   "source": [
    "2. R "
   ]
  },
  {
   "cell_type": "markdown",
   "id": "9be11bb5-d876-4630-bd8e-01c0c466498c",
   "metadata": {},
   "source": [
    "3. SQL"
   ]
  },
  {
   "cell_type": "markdown",
   "id": "9022eb82-6543-44c0-9345-c000603fb900",
   "metadata": {},
   "source": [
    "4. Java"
   ]
  },
  {
   "cell_type": "markdown",
   "id": "c6ea2740-e6cf-474d-a4a7-c7ae7684a37f",
   "metadata": {},
   "source": [
    "5. C++"
   ]
  },
  {
   "cell_type": "markdown",
   "id": "133a3d17-8084-4ed8-a9f5-27fd977067b6",
   "metadata": {},
   "source": [
    "6. Scala"
   ]
  },
  {
   "cell_type": "markdown",
   "id": "43d5214a-d16d-4d06-aa2a-cbe519a9f9ce",
   "metadata": {},
   "source": [
    "Some of the commonly used libraries used by Data Scientists include:"
   ]
  },
  {
   "cell_type": "markdown",
   "id": "7f6c840a-82ee-4a8e-a2de-1a8b63290e4e",
   "metadata": {},
   "source": [
    "1. Pandas"
   ]
  },
  {
   "cell_type": "markdown",
   "id": "30d83366-4a74-4e89-9151-1896a110b946",
   "metadata": {},
   "source": [
    "2. Numpy"
   ]
  },
  {
   "cell_type": "markdown",
   "id": "b29f4ae4-0162-4533-b70b-a35a352a8364",
   "metadata": {},
   "source": [
    "3. Matplotlib"
   ]
  },
  {
   "cell_type": "markdown",
   "id": "cf581a3d-35a7-4ced-8b10-918eaad0d2da",
   "metadata": {},
   "source": [
    "4. Scikitlearn"
   ]
  },
  {
   "cell_type": "markdown",
   "id": "4e14673b-b513-44c1-a1a0-aa84f5a8b086",
   "metadata": {},
   "source": [
    "5. Temsorflow"
   ]
  },
  {
   "cell_type": "markdown",
   "id": "e0161281-d45e-4581-a13c-d2d7bddabad1",
   "metadata": {},
   "source": [
    "6. Pytorcj"
   ]
  },
  {
   "cell_type": "markdown",
   "id": "bd34ec5e-550b-4509-aadc-1d407ba253a5",
   "metadata": {},
   "source": [
    "|Data Science Tools|\n",
    "| --- |\n",
    "| Apache Spark |\n",
    "| Model Asset Exchange |\n",
    "| TensorFlow |"
   ]
  },
  {
   "cell_type": "markdown",
   "id": "3e118a6b-5d47-4bef-9a46-1316d4da9d87",
   "metadata": {},
   "source": [
    "Below are a few examples of evaluating arithmetic expressions in Python"
   ]
  },
  {
   "cell_type": "markdown",
   "id": "2f9a8860-ee01-47a0-bd69-5ddde3e58548",
   "metadata": {},
   "source": [
    "This a simple arithmetic expression to mutiply then add integers"
   ]
  },
  {
   "cell_type": "code",
   "execution_count": 6,
   "id": "5d9bbd45-eb4f-4214-b16c-f0ed8d3b2139",
   "metadata": {},
   "outputs": [
    {
     "name": "stdout",
     "output_type": "stream",
     "text": [
      "17\n"
     ]
    }
   ],
   "source": [
    "x=(3*4)+5\n",
    "print(x)"
   ]
  },
  {
   "cell_type": "markdown",
   "id": "383c14a9-adf5-45e5-8885-7c3ff60610f3",
   "metadata": {},
   "source": [
    "This will convert 200 minutes to hours by diving by 60"
   ]
  },
  {
   "cell_type": "code",
   "execution_count": 7,
   "id": "2d4ca45e-bc98-45de-b5fd-f81a7dc3da70",
   "metadata": {},
   "outputs": [
    {
     "name": "stdout",
     "output_type": "stream",
     "text": [
      "3.33\n"
     ]
    }
   ],
   "source": [
    "mintohour= round(200/60,2)\n",
    "print(mintohour)"
   ]
  },
  {
   "cell_type": "code",
   "execution_count": null,
   "id": "f338c06c-4d10-40be-bfba-b43873dd86eb",
   "metadata": {},
   "outputs": [],
   "source": []
  },
  {
   "cell_type": "code",
   "execution_count": null,
   "id": "d8f0504c-63c2-44f7-b2ee-d7593a4f7352",
   "metadata": {},
   "outputs": [],
   "source": []
  }
 ],
 "metadata": {
  "kernelspec": {
   "display_name": "Python 3 (ipykernel)",
   "language": "python",
   "name": "python3"
  },
  "language_info": {
   "codemirror_mode": {
    "name": "ipython",
    "version": 3
   },
   "file_extension": ".py",
   "mimetype": "text/x-python",
   "name": "python",
   "nbconvert_exporter": "python",
   "pygments_lexer": "ipython3",
   "version": "3.9.16"
  }
 },
 "nbformat": 4,
 "nbformat_minor": 5
}
